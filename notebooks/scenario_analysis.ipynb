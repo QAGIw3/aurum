{
  "cells": [
    {
      "cell_type": "markdown",
      "metadata": {},
      "source": [
        "# Scenario Analysis\n",
        "\n",
        "This notebook demonstrates how to explore scenario outputs via the Aurum API. Configure the environment variables `AURUM_API_BASE_URL` and `AURUM_TENANT_ID` (or edit the cells below) before running."
      ]
    },
    {
      "cell_type": "code",
      "execution_count": null,
      "metadata": {},
      "outputs": [],
      "source": [
        "import os\n",
        "import requests\n",
        "import pandas as pd\n",
        "\n",
        "BASE_URL = os.getenv('AURUM_API_BASE_URL', 'http://localhost:8095')\n",
        "TENANT = os.getenv('AURUM_TENANT_ID', '00000000-0000-0000-0000-000000000001')\n",
        "session = requests.Session()\n",
        "session.headers.update({'X-Aurum-Tenant': TENANT})\n",
        "print(f'Using API {BASE_URL} for tenant {TENANT}')\n"
      ]
    },
    {
      "cell_type": "code",
      "execution_count": null,
      "metadata": {},
      "outputs": [],
      "source": [
        "response = session.get(f'{BASE_URL}/v1/scenarios', params={'limit': 5})\n",
        "response.raise_for_status()\n",
        "scenarios = response.json()['data']\n",
        "pd.DataFrame(scenarios)\n"
      ]
    },
    {
      "cell_type": "code",
      "execution_count": null,
      "metadata": {},
      "outputs": [],
      "source": [
        "# Replace with a valid scenario_id if needed\n",
        "scenario_id = scenarios[0]['scenario_id'] if scenarios else None\n",
        "if scenario_id is None:\n",
        "    raise RuntimeError('No scenarios available to inspect.')\n",
        "\n",
        "outputs_resp = session.get(\n",
        "    f'{BASE_URL}/v1/scenarios/{scenario_id}/outputs',\n",
        "    params={'limit': 100}\n",
        ")\n",
        "outputs_resp.raise_for_status()\n",
        "outputs = outputs_resp.json()['data']\n",
        "df = pd.DataFrame(outputs)\n",
        "df[['run_id', 'curve_key', 'tenor_label', 'metric', 'value', 'asof_date']].head()\n"
      ]
    },
    {
      "cell_type": "code",
      "execution_count": null,
      "metadata": {},
      "outputs": [],
      "source": [
        "pivot = df.pivot_table(\n",
        "    index='tenor_label',\n",
        "    columns='metric',\n",
        "    values='value'\n",
        ")\n",
        "pivot\n"
      ]
    }
  ],
  "metadata": {
    "kernelspec": {
      "display_name": "Python 3",
      "language": "python",
      "name": "python3"
    },
    "language_info": {
      "name": "python",
      "version": "3.10"
    }
  },
  "nbformat": 4,
  "nbformat_minor": 5
}