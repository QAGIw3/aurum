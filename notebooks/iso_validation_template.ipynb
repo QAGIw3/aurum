{
 "cells": [
  {
   "cell_type": "markdown",
   "metadata": {},
   "source": [
    "# ISO Validation Checklist\n",
    "Configure the parameters below and run each section to validate ingestion → Timescale → Iceberg → API for a given ISO."
   ]
  },
  {
   "cell_type": "code",
   "execution_count": null,
   "metadata": {},
   "outputs": [],
   "source": [
    "ISO_CODE = \"PJM\"\n",
    "ASOF_START = \"2024-01-01\"\n",
    "ASOF_END = \"2024-01-31\"\n",
    "TRINO_HOST = \"localhost\"\n",
    "TRINO_PORT = 8080\n",
    "TRINO_USER = \"aurum\"\n",
    "TRINO_CATALOG = \"iceberg\"\n",
    "CURVE_TABLE = \"mart.fct_curve_observation\"\n",
    "TIMESCALE_CATALOG = \"timescale\"\n",
    "TIMESCALE_SCHEMA = \"public\"\n",
    "TIMESCALE_TABLE = \"iso_lmp_timeseries\""
   ]
  },
  {
   "cell_type": "code",
   "execution_count": null,
   "metadata": {},
   "outputs": [],
   "source": [
    "import pandas as pd\n",
    "from trino.dbapi import connect as trino_connect\n",
    "\n",
    "def run_trino(sql: str, catalog: str = TRINO_CATALOG, schema: str | None = None) -> pd.DataFrame:\n",
    "    conn = trino_connect(host=TRINO_HOST, port=TRINO_PORT, user=TRINO_USER, catalog=catalog, schema=schema)\n",
    "    try:\n",
    "        return pd.DataFrame(conn.execute(sql))\n",
    "    finally:\n",
    "        conn.close()\n",
    "\n",
    "curve_sql = f\"""
WITH filtered AS (
    SELECT *
    FROM {CURVE_TABLE}
    WHERE iso_code = '{ISO_CODE}'
      AND asof_date BETWEEN DATE '{ASOF_START}' AND DATE '{ASOF_END}'
)
SELECT
    iso_code,
    asof_date,
    tenor_label,
    avg(mid) AS mid_avg,
    max(mid) AS mid_max,
    min(mid) AS mid_min
FROM filtered
GROUP BY 1, 2, 3
ORDER BY asof_date DESC, tenor_label
"""\n",
    "curve_df = run_trino(curve_sql)\n",
    "curve_df.head()"
   ]
  },
  {
   "cell_type": "code",
   "execution_count": null,
   "metadata": {},
   "outputs": [],
   "source": [
    "lmp_sql = f\"""
SELECT
    iso_code,
    date_trunc('day', interval_start) AS operating_day,
    count(*) AS intervals,
    avg(price_total) AS avg_price,
    max(price_total) AS max_price,
    min(price_total) AS min_price
FROM {TIMESCALE_SCHEMA}.{TIMESCALE_TABLE}
WHERE iso_code = '{ISO_CODE}'
  AND interval_start >= current_timestamp - INTERVAL '7' DAY
GROUP BY 1, 2
ORDER BY operating_day DESC
"""\n",
    "lmp_df = run_trino(lmp_sql, catalog=TIMESCALE_CATALOG, schema=TIMESCALE_SCHEMA)\n",
    "lmp_df.head()"
   ]
  },
  {
   "cell_type": "markdown",
   "metadata": {},
   "source": [
    "## Compare API vs SQL slice\n",
    "Use the helper below to call the running API and confirm it matches the SQL outputs." 
   ]
  },
  {
   "cell_type": "code",
   "execution_count": null,
   "metadata": {},
   "outputs": [],
   "source": [
    "import requests\n",
    "API_BASE = \"http://localhost:8095\"\n",
    "resp = requests.get(f\"{API_BASE}/v1/curves\", params={"iso": ISO_CODE, "as_of": ASOF_END, "market": "DAY_AHEAD"})\n",
    "resp.raise_for_status()\n",
    "api_df = pd.DataFrame(resp.json().get('data', []))\n",
    "api_df.head()"
   ]
  }
 ],
 "metadata": {
  "kernelspec": {
   "display_name": "Python 3",
   "language": "python",
   "name": "python3"
  },
  "language_info": {
   "name": "python"
  }
 },
 "nbformat": 4,
 "nbformat_minor": 5
}
